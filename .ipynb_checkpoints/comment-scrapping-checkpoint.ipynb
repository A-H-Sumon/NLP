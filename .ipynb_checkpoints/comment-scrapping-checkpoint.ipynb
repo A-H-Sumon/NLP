{
 "cells": [
  {
   "cell_type": "code",
   "execution_count": 1,
   "id": "9f0b698c",
   "metadata": {},
   "outputs": [],
   "source": [
    "from selenium import webdriver\n",
    "from selenium.webdriver.common.keys import Keys\n",
    "from selenium.webdriver.support import expected_conditions as EC\n",
    "from selenium.webdriver.common.by import By\n",
    "from selenium.webdriver.support.wait import WebDriverWait\n",
    "import time\n",
    "import pandas as pd"
   ]
  },
  {
   "cell_type": "code",
   "execution_count": 2,
   "id": "6ccc7c6a",
   "metadata": {},
   "outputs": [],
   "source": [
    "#code to ignore browser notifications\n",
    "chrome_options = webdriver.ChromeOptions()\n",
    "prefs = {\"profile.default_content_setting_values.notifications\" : 2}\n",
    "chrome_options.add_experimental_option(\"prefs\",prefs)\n",
    "from selenium.webdriver.support.wait import WebDriverWait"
   ]
  },
  {
   "cell_type": "code",
   "execution_count": 3,
   "id": "5af10a3b",
   "metadata": {},
   "outputs": [
    {
     "name": "stderr",
     "output_type": "stream",
     "text": [
      "C:\\Users\\User\\AppData\\Local\\Temp/ipykernel_6240/3632143690.py:1: DeprecationWarning: executable_path has been deprecated, please pass in a Service object\n",
      "  driver = webdriver.Chrome(r\"C:\\Users\\User\\chromedriver.exe\")\n"
     ]
    }
   ],
   "source": [
    "driver = webdriver.Chrome(r\"\")\n",
    "\n",
    "#open the webpage\n",
    "driver.get(\"https://wwww.facebook.com/\")"
   ]
  },
  {
   "cell_type": "code",
   "execution_count": 4,
   "id": "1fc28095",
   "metadata": {},
   "outputs": [],
   "source": [
    "#target username\n",
    "username = WebDriverWait(driver, 10).until(EC.element_to_be_clickable((By.CSS_SELECTOR, \"input[name='email']\")))\n",
    "password = WebDriverWait(driver, 10).until(EC.element_to_be_clickable((By.CSS_SELECTOR, \"input[name='pass']\")))\n",
    "\n",
    "#enter username and password\n",
    "username.clear()"
   ]
  },
  {
   "cell_type": "code",
   "execution_count": 5,
   "id": "0cf23cd9",
   "metadata": {},
   "outputs": [],
   "source": [
    "#enter email\n",
    "username.send_keys(\"\")\n",
    "password.clear()\n",
    "#use password\n",
    "password.send_keys(\"\")"
   ]
  },
  {
   "cell_type": "code",
   "execution_count": 6,
   "id": "72b8a15b",
   "metadata": {},
   "outputs": [],
   "source": [
    "#target the login button and click it\n",
    "time.sleep(5)\n",
    "button = WebDriverWait(driver,5).until(EC.element_to_be_clickable((By.CSS_SELECTOR, \"button[type='submit']\"))).click()"
   ]
  },
  {
   "cell_type": "code",
   "execution_count": 7,
   "id": "7c6325d7",
   "metadata": {},
   "outputs": [
    {
     "name": "stdout",
     "output_type": "stream",
     "text": [
      "Logged in\n"
     ]
    }
   ],
   "source": [
    "#We are logged in!\n",
    "print(\"Logged in\")\n",
    "#program to parse user name who posted comment\n",
    "def Nameparse():\n",
    "    driver.get(url)\n",
    "    names = driver.find_element('h3')\n",
    "    for name in names:\n",
    "        name=name.text\n",
    "        if name=='Efaz': #Omitting Efaz Rahman name from parsed list\n",
    "            continue\n",
    "        Name.append(name)"
   ]
  },
  {
   "cell_type": "code",
   "execution_count": 8,
   "id": "e22926c1",
   "metadata": {},
   "outputs": [],
   "source": [
    "#program to parse comments\n",
    "def Commentparse():\n",
    "    driver.get(url)\n",
    "    comments=driver.find_elements_by_css_selector(\"[class='ed']\") or driver.find_elements_by_css_selector(\"[class='ee']\") or driver.find_elements_by_css_selector(\"[class='eg']\")\n",
    "    for comment in comments:\n",
    "        comment=comment.text\n",
    "        Comment.append(comment)"
   ]
  },
  {
   "cell_type": "code",
   "execution_count": 9,
   "id": "a1b814e0",
   "metadata": {},
   "outputs": [
    {
     "ename": "InvalidArgumentException",
     "evalue": "Message: invalid argument: invalid locator\n  (Session info: chrome=105.0.5195.127)\nStacktrace:\nBacktrace:\n\tOrdinal0 [0x0023DF13+2219795]\n\tOrdinal0 [0x001D2841+1779777]\n\tOrdinal0 [0x000E423D+803389]\n\tOrdinal0 [0x00112AC9+993993]\n\tOrdinal0 [0x001131EB+995819]\n\tOrdinal0 [0x00140F52+1183570]\n\tOrdinal0 [0x0012E844+1108036]\n\tOrdinal0 [0x0013F192+1175954]\n\tOrdinal0 [0x0012E616+1107478]\n\tOrdinal0 [0x00107F89+950153]\n\tOrdinal0 [0x00108F56+954198]\n\tGetHandleVerifier [0x00532CB2+3040210]\n\tGetHandleVerifier [0x00522BB4+2974420]\n\tGetHandleVerifier [0x002D6A0A+565546]\n\tGetHandleVerifier [0x002D5680+560544]\n\tOrdinal0 [0x001D9A5C+1808988]\n\tOrdinal0 [0x001DE3A8+1827752]\n\tOrdinal0 [0x001DE495+1827989]\n\tOrdinal0 [0x001E80A4+1867940]\n\tBaseThreadInitThunk [0x76556739+25]\n\tRtlGetFullPathName_UEx [0x77AE8FD2+1218]\n\tRtlGetFullPathName_UEx [0x77AE8F9D+1165]\n\t(No symbol) [0x00000000]\n",
     "output_type": "error",
     "traceback": [
      "\u001b[1;31m---------------------------------------------------------------------------\u001b[0m",
      "\u001b[1;31mInvalidArgumentException\u001b[0m                  Traceback (most recent call last)",
      "\u001b[1;32m~\\AppData\\Local\\Temp/ipykernel_6240/4000353858.py\u001b[0m in \u001b[0;36m<module>\u001b[1;34m\u001b[0m\n\u001b[0;32m      8\u001b[0m     \u001b[0murl\u001b[0m\u001b[1;33m=\u001b[0m\u001b[1;33m(\u001b[0m\u001b[1;34m\"https://www.facebook.com/groups/nsu.ewu.brac/posts/7994000957341712/\"\u001b[0m\u001b[1;33m)\u001b[0m\u001b[1;33m\u001b[0m\u001b[1;33m\u001b[0m\u001b[0m\n\u001b[0;32m      9\u001b[0m     \u001b[0murl\u001b[0m\u001b[1;33m=\u001b[0m\u001b[0murl\u001b[0m\u001b[1;33m+\u001b[0m\u001b[0mstr\u001b[0m\u001b[1;33m(\u001b[0m\u001b[0mcnt\u001b[0m\u001b[1;33m)\u001b[0m\u001b[1;33m\u001b[0m\u001b[1;33m\u001b[0m\u001b[0m\n\u001b[1;32m---> 10\u001b[1;33m     \u001b[0mNameparse\u001b[0m\u001b[1;33m(\u001b[0m\u001b[1;33m)\u001b[0m\u001b[1;33m\u001b[0m\u001b[1;33m\u001b[0m\u001b[0m\n\u001b[0m\u001b[0;32m     11\u001b[0m     \u001b[0mprint\u001b[0m\u001b[1;33m(\u001b[0m\u001b[0mName\u001b[0m\u001b[1;33m)\u001b[0m\u001b[1;33m\u001b[0m\u001b[1;33m\u001b[0m\u001b[0m\n\u001b[0;32m     12\u001b[0m     \u001b[0mCommentparse\u001b[0m\u001b[1;33m(\u001b[0m\u001b[1;33m)\u001b[0m\u001b[1;33m\u001b[0m\u001b[1;33m\u001b[0m\u001b[0m\n",
      "\u001b[1;32m~\\AppData\\Local\\Temp/ipykernel_6240/3884117371.py\u001b[0m in \u001b[0;36mNameparse\u001b[1;34m()\u001b[0m\n\u001b[0;32m      4\u001b[0m \u001b[1;32mdef\u001b[0m \u001b[0mNameparse\u001b[0m\u001b[1;33m(\u001b[0m\u001b[1;33m)\u001b[0m\u001b[1;33m:\u001b[0m\u001b[1;33m\u001b[0m\u001b[1;33m\u001b[0m\u001b[0m\n\u001b[0;32m      5\u001b[0m     \u001b[0mdriver\u001b[0m\u001b[1;33m.\u001b[0m\u001b[0mget\u001b[0m\u001b[1;33m(\u001b[0m\u001b[0murl\u001b[0m\u001b[1;33m)\u001b[0m\u001b[1;33m\u001b[0m\u001b[1;33m\u001b[0m\u001b[0m\n\u001b[1;32m----> 6\u001b[1;33m     \u001b[0mnames\u001b[0m \u001b[1;33m=\u001b[0m \u001b[0mdriver\u001b[0m\u001b[1;33m.\u001b[0m\u001b[0mfind_element\u001b[0m\u001b[1;33m(\u001b[0m\u001b[1;34m'h3'\u001b[0m\u001b[1;33m)\u001b[0m\u001b[1;33m\u001b[0m\u001b[1;33m\u001b[0m\u001b[0m\n\u001b[0m\u001b[0;32m      7\u001b[0m     \u001b[1;32mfor\u001b[0m \u001b[0mname\u001b[0m \u001b[1;32min\u001b[0m \u001b[0mnames\u001b[0m\u001b[1;33m:\u001b[0m\u001b[1;33m\u001b[0m\u001b[1;33m\u001b[0m\u001b[0m\n\u001b[0;32m      8\u001b[0m         \u001b[0mname\u001b[0m\u001b[1;33m=\u001b[0m\u001b[0mname\u001b[0m\u001b[1;33m.\u001b[0m\u001b[0mtext\u001b[0m\u001b[1;33m\u001b[0m\u001b[1;33m\u001b[0m\u001b[0m\n",
      "\u001b[1;32m~\\anaconda3\\lib\\site-packages\\selenium\\webdriver\\remote\\webdriver.py\u001b[0m in \u001b[0;36mfind_element\u001b[1;34m(self, by, value)\u001b[0m\n\u001b[0;32m    854\u001b[0m             \u001b[0mvalue\u001b[0m \u001b[1;33m=\u001b[0m \u001b[1;34m'[name=\"%s\"]'\u001b[0m \u001b[1;33m%\u001b[0m \u001b[0mvalue\u001b[0m\u001b[1;33m\u001b[0m\u001b[1;33m\u001b[0m\u001b[0m\n\u001b[0;32m    855\u001b[0m \u001b[1;33m\u001b[0m\u001b[0m\n\u001b[1;32m--> 856\u001b[1;33m         return self.execute(Command.FIND_ELEMENT, {\n\u001b[0m\u001b[0;32m    857\u001b[0m             \u001b[1;34m'using'\u001b[0m\u001b[1;33m:\u001b[0m \u001b[0mby\u001b[0m\u001b[1;33m,\u001b[0m\u001b[1;33m\u001b[0m\u001b[1;33m\u001b[0m\u001b[0m\n\u001b[0;32m    858\u001b[0m             'value': value})['value']\n",
      "\u001b[1;32m~\\anaconda3\\lib\\site-packages\\selenium\\webdriver\\remote\\webdriver.py\u001b[0m in \u001b[0;36mexecute\u001b[1;34m(self, driver_command, params)\u001b[0m\n\u001b[0;32m    432\u001b[0m         \u001b[0mresponse\u001b[0m \u001b[1;33m=\u001b[0m \u001b[0mself\u001b[0m\u001b[1;33m.\u001b[0m\u001b[0mcommand_executor\u001b[0m\u001b[1;33m.\u001b[0m\u001b[0mexecute\u001b[0m\u001b[1;33m(\u001b[0m\u001b[0mdriver_command\u001b[0m\u001b[1;33m,\u001b[0m \u001b[0mparams\u001b[0m\u001b[1;33m)\u001b[0m\u001b[1;33m\u001b[0m\u001b[1;33m\u001b[0m\u001b[0m\n\u001b[0;32m    433\u001b[0m         \u001b[1;32mif\u001b[0m \u001b[0mresponse\u001b[0m\u001b[1;33m:\u001b[0m\u001b[1;33m\u001b[0m\u001b[1;33m\u001b[0m\u001b[0m\n\u001b[1;32m--> 434\u001b[1;33m             \u001b[0mself\u001b[0m\u001b[1;33m.\u001b[0m\u001b[0merror_handler\u001b[0m\u001b[1;33m.\u001b[0m\u001b[0mcheck_response\u001b[0m\u001b[1;33m(\u001b[0m\u001b[0mresponse\u001b[0m\u001b[1;33m)\u001b[0m\u001b[1;33m\u001b[0m\u001b[1;33m\u001b[0m\u001b[0m\n\u001b[0m\u001b[0;32m    435\u001b[0m             response['value'] = self._unwrap_value(\n\u001b[0;32m    436\u001b[0m                 response.get('value', None))\n",
      "\u001b[1;32m~\\anaconda3\\lib\\site-packages\\selenium\\webdriver\\remote\\errorhandler.py\u001b[0m in \u001b[0;36mcheck_response\u001b[1;34m(self, response)\u001b[0m\n\u001b[0;32m    241\u001b[0m                 \u001b[0malert_text\u001b[0m \u001b[1;33m=\u001b[0m \u001b[0mvalue\u001b[0m\u001b[1;33m[\u001b[0m\u001b[1;34m'alert'\u001b[0m\u001b[1;33m]\u001b[0m\u001b[1;33m.\u001b[0m\u001b[0mget\u001b[0m\u001b[1;33m(\u001b[0m\u001b[1;34m'text'\u001b[0m\u001b[1;33m)\u001b[0m\u001b[1;33m\u001b[0m\u001b[1;33m\u001b[0m\u001b[0m\n\u001b[0;32m    242\u001b[0m             \u001b[1;32mraise\u001b[0m \u001b[0mexception_class\u001b[0m\u001b[1;33m(\u001b[0m\u001b[0mmessage\u001b[0m\u001b[1;33m,\u001b[0m \u001b[0mscreen\u001b[0m\u001b[1;33m,\u001b[0m \u001b[0mstacktrace\u001b[0m\u001b[1;33m,\u001b[0m \u001b[0malert_text\u001b[0m\u001b[1;33m)\u001b[0m  \u001b[1;31m# type: ignore[call-arg]  # mypy is not smart enough here\u001b[0m\u001b[1;33m\u001b[0m\u001b[1;33m\u001b[0m\u001b[0m\n\u001b[1;32m--> 243\u001b[1;33m         \u001b[1;32mraise\u001b[0m \u001b[0mexception_class\u001b[0m\u001b[1;33m(\u001b[0m\u001b[0mmessage\u001b[0m\u001b[1;33m,\u001b[0m \u001b[0mscreen\u001b[0m\u001b[1;33m,\u001b[0m \u001b[0mstacktrace\u001b[0m\u001b[1;33m)\u001b[0m\u001b[1;33m\u001b[0m\u001b[1;33m\u001b[0m\u001b[0m\n\u001b[0m",
      "\u001b[1;31mInvalidArgumentException\u001b[0m: Message: invalid argument: invalid locator\n  (Session info: chrome=105.0.5195.127)\nStacktrace:\nBacktrace:\n\tOrdinal0 [0x0023DF13+2219795]\n\tOrdinal0 [0x001D2841+1779777]\n\tOrdinal0 [0x000E423D+803389]\n\tOrdinal0 [0x00112AC9+993993]\n\tOrdinal0 [0x001131EB+995819]\n\tOrdinal0 [0x00140F52+1183570]\n\tOrdinal0 [0x0012E844+1108036]\n\tOrdinal0 [0x0013F192+1175954]\n\tOrdinal0 [0x0012E616+1107478]\n\tOrdinal0 [0x00107F89+950153]\n\tOrdinal0 [0x00108F56+954198]\n\tGetHandleVerifier [0x00532CB2+3040210]\n\tGetHandleVerifier [0x00522BB4+2974420]\n\tGetHandleVerifier [0x002D6A0A+565546]\n\tGetHandleVerifier [0x002D5680+560544]\n\tOrdinal0 [0x001D9A5C+1808988]\n\tOrdinal0 [0x001DE3A8+1827752]\n\tOrdinal0 [0x001DE495+1827989]\n\tOrdinal0 [0x001E80A4+1867940]\n\tBaseThreadInitThunk [0x76556739+25]\n\tRtlGetFullPathName_UEx [0x77AE8FD2+1218]\n\tRtlGetFullPathName_UEx [0x77AE8F9D+1165]\n\t(No symbol) [0x00000000]\n"
     ]
    }
   ],
   "source": [
    "#Program to scrap comments from each page\n",
    "Name=[]\n",
    "Comment=[]\n",
    "cnt=0\n",
    "#program to parse comments from 5 pages, if you want comments from all pages then use while loop\n",
    "for i in range(6):\n",
    "#while True:\n",
    "    url=(\"https://www.facebook.com/groups/nsu.ewu.brac/posts/7994000957341712/\")\n",
    "    url=url+str(cnt)\n",
    "    Nameparse()\n",
    "    print(Name)\n",
    "    Commentparse()\n",
    "    print(Comment)\n",
    "    print(url)\n",
    "    cnt=cnt+10  "
   ]
  },
  {
   "cell_type": "code",
   "execution_count": null,
   "id": "1dd0968f",
   "metadata": {},
   "outputs": [],
   "source": [
    "#create a dataframe\n",
    "data = pd.DataFrame({'Name': Name, 'Comment': Comment})\n",
    "data.to_csv('Facebbok_comments.csv')\n",
    "print('data saved')"
   ]
  },
  {
   "cell_type": "code",
   "execution_count": null,
   "id": "2195e33f",
   "metadata": {},
   "outputs": [],
   "source": []
  }
 ],
 "metadata": {
  "kernelspec": {
   "display_name": "Python 3 (ipykernel)",
   "language": "python",
   "name": "python3"
  },
  "language_info": {
   "codemirror_mode": {
    "name": "ipython",
    "version": 3
   },
   "file_extension": ".py",
   "mimetype": "text/x-python",
   "name": "python",
   "nbconvert_exporter": "python",
   "pygments_lexer": "ipython3",
   "version": "3.9.7"
  }
 },
 "nbformat": 4,
 "nbformat_minor": 5
}
